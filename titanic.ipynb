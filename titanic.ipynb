{
 "cells": [
  {
   "cell_type": "markdown",
   "metadata": {
    "_cell_guid": "88a560b0-7a9d-448c-8ef2-deacb6fb37f1",
    "_uuid": "a85f44497092d3c8a51bd913880f626d59f57e4c"
   },
   "source": [
    "# Prediction de la survie d'un individu sur le Titanic\n",
    "\n",
    "Ce tutoriel repose sur les données et le défi exemple de la communauté kaggle sur les données du titanic.\n",
    "\n",
    "Il s'agit à partir de la liste des passagers du titanic et de leur survie ou non de prédire la chance de survie d'un individu en fonction de son nom, age, sexe, situation familiale, économique...\n",
    "\n",
    "Ce notebook est inspiré par https://www.kaggle.com/mukultiwari/titanic-top-14-with-random-forest\n"
   ]
  },
  {
   "cell_type": "code",
   "execution_count": 4,
   "metadata": {
    "_cell_guid": "b11366bd-b985-4df1-9630-b2d57f60d0f0",
    "_uuid": "2da21fe9ea560ec76cded00d85f84caa7932a126"
   },
   "outputs": [],
   "source": [
    "import pandas as pd ; import numpy as np\n",
    "import matplotlib.pyplot as plt ; import seaborn as sns\n",
    "import multiprocessing\n",
    "from sklearn.preprocessing import LabelEncoder, OneHotEncoder\n",
    "from sklearn.model_selection import train_test_split\n",
    "import pathlib\n",
    "from sklearn.preprocessing import MinMaxScaler\n",
    "from sklearn.ensemble import RandomForestClassifier\n",
    "import time\n",
    "%matplotlib inline\n",
    "#import warnings\n",
    "#warnings.filterwarnings('ignore')"
   ]
  },
  {
   "cell_type": "markdown",
   "metadata": {
    "_cell_guid": "e63ba51a-a82b-4e75-9f73-6ff5374b49f8",
    "_uuid": "8063f112062a792a052c7b8c3b07ec32a9ba201f"
   },
   "source": [
    "# Données\n",
    "\n",
    "On va utiliser la librairie pandas pour lire les données, on y a déposé le jeu de donnée disponible sur kaggle :\n",
    "* le train.csv contient les données d'apprentissages, c'est à dire les variables décrivants des individus et s'ils ont survécus ou non.\n",
    "* le test.csv contient uniquement la description d'individu dont il faut prédire leur chance de survie. "
   ]
  },
  {
   "cell_type": "markdown",
   "metadata": {
    "_cell_guid": "dd58ece3-bf62-484b-a7b8-9671a874c7e3",
    "_uuid": "56224632f5ef18fe17364b808faaa1f5725f4079"
   },
   "source": [
    "---"
   ]
  },
  {
   "cell_type": "code",
   "execution_count": 5,
   "metadata": {
    "_cell_guid": "096ddef0-fc1a-4a65-bd56-82e5b3ef3d96",
    "_uuid": "fdcb49f7845aae42bceb3216b3a2f09374c762ba"
   },
   "outputs": [],
   "source": [
    "import os\n",
    "\n",
    "\n",
    "TrainingData = pd.read_csv('train.csv')\n",
    "TestData = pd.read_csv('test.csv')"
   ]
  },
  {
   "cell_type": "code",
   "execution_count": 6,
   "metadata": {
    "_cell_guid": "b02f3b71-dd0f-4c22-8e48-fc4ee8616e21",
    "_uuid": "5ceeb0b9a9ddd42db685a5e5f0503e01788a016a"
   },
   "outputs": [
    {
     "data": {
      "text/html": [
       "<div>\n",
       "<style scoped>\n",
       "    .dataframe tbody tr th:only-of-type {\n",
       "        vertical-align: middle;\n",
       "    }\n",
       "\n",
       "    .dataframe tbody tr th {\n",
       "        vertical-align: top;\n",
       "    }\n",
       "\n",
       "    .dataframe thead th {\n",
       "        text-align: right;\n",
       "    }\n",
       "</style>\n",
       "<table border=\"1\" class=\"dataframe\">\n",
       "  <thead>\n",
       "    <tr style=\"text-align: right;\">\n",
       "      <th></th>\n",
       "      <th>PassengerId</th>\n",
       "      <th>Survived</th>\n",
       "      <th>Pclass</th>\n",
       "      <th>Name</th>\n",
       "      <th>Sex</th>\n",
       "      <th>Age</th>\n",
       "      <th>SibSp</th>\n",
       "      <th>Parch</th>\n",
       "      <th>Ticket</th>\n",
       "      <th>Fare</th>\n",
       "      <th>Cabin</th>\n",
       "      <th>Embarked</th>\n",
       "    </tr>\n",
       "  </thead>\n",
       "  <tbody>\n",
       "    <tr>\n",
       "      <th>0</th>\n",
       "      <td>1</td>\n",
       "      <td>0</td>\n",
       "      <td>3</td>\n",
       "      <td>Braund, Mr. Owen Harris</td>\n",
       "      <td>male</td>\n",
       "      <td>22.0</td>\n",
       "      <td>1</td>\n",
       "      <td>0</td>\n",
       "      <td>A/5 21171</td>\n",
       "      <td>7.2500</td>\n",
       "      <td>NaN</td>\n",
       "      <td>S</td>\n",
       "    </tr>\n",
       "    <tr>\n",
       "      <th>1</th>\n",
       "      <td>2</td>\n",
       "      <td>1</td>\n",
       "      <td>1</td>\n",
       "      <td>Cumings, Mrs. John Bradley (Florence Briggs Th...</td>\n",
       "      <td>female</td>\n",
       "      <td>38.0</td>\n",
       "      <td>1</td>\n",
       "      <td>0</td>\n",
       "      <td>PC 17599</td>\n",
       "      <td>71.2833</td>\n",
       "      <td>C85</td>\n",
       "      <td>C</td>\n",
       "    </tr>\n",
       "    <tr>\n",
       "      <th>2</th>\n",
       "      <td>3</td>\n",
       "      <td>1</td>\n",
       "      <td>3</td>\n",
       "      <td>Heikkinen, Miss. Laina</td>\n",
       "      <td>female</td>\n",
       "      <td>26.0</td>\n",
       "      <td>0</td>\n",
       "      <td>0</td>\n",
       "      <td>STON/O2. 3101282</td>\n",
       "      <td>7.9250</td>\n",
       "      <td>NaN</td>\n",
       "      <td>S</td>\n",
       "    </tr>\n",
       "    <tr>\n",
       "      <th>3</th>\n",
       "      <td>4</td>\n",
       "      <td>1</td>\n",
       "      <td>1</td>\n",
       "      <td>Futrelle, Mrs. Jacques Heath (Lily May Peel)</td>\n",
       "      <td>female</td>\n",
       "      <td>35.0</td>\n",
       "      <td>1</td>\n",
       "      <td>0</td>\n",
       "      <td>113803</td>\n",
       "      <td>53.1000</td>\n",
       "      <td>C123</td>\n",
       "      <td>S</td>\n",
       "    </tr>\n",
       "    <tr>\n",
       "      <th>4</th>\n",
       "      <td>5</td>\n",
       "      <td>0</td>\n",
       "      <td>3</td>\n",
       "      <td>Allen, Mr. William Henry</td>\n",
       "      <td>male</td>\n",
       "      <td>35.0</td>\n",
       "      <td>0</td>\n",
       "      <td>0</td>\n",
       "      <td>373450</td>\n",
       "      <td>8.0500</td>\n",
       "      <td>NaN</td>\n",
       "      <td>S</td>\n",
       "    </tr>\n",
       "  </tbody>\n",
       "</table>\n",
       "</div>"
      ],
      "text/plain": [
       "   PassengerId  Survived  Pclass  \\\n",
       "0            1         0       3   \n",
       "1            2         1       1   \n",
       "2            3         1       3   \n",
       "3            4         1       1   \n",
       "4            5         0       3   \n",
       "\n",
       "                                                Name     Sex   Age  SibSp  \\\n",
       "0                            Braund, Mr. Owen Harris    male  22.0      1   \n",
       "1  Cumings, Mrs. John Bradley (Florence Briggs Th...  female  38.0      1   \n",
       "2                             Heikkinen, Miss. Laina  female  26.0      0   \n",
       "3       Futrelle, Mrs. Jacques Heath (Lily May Peel)  female  35.0      1   \n",
       "4                           Allen, Mr. William Henry    male  35.0      0   \n",
       "\n",
       "   Parch            Ticket     Fare Cabin Embarked  \n",
       "0      0         A/5 21171   7.2500   NaN        S  \n",
       "1      0          PC 17599  71.2833   C85        C  \n",
       "2      0  STON/O2. 3101282   7.9250   NaN        S  \n",
       "3      0            113803  53.1000  C123        S  \n",
       "4      0            373450   8.0500   NaN        S  "
      ]
     },
     "execution_count": 6,
     "metadata": {},
     "output_type": "execute_result"
    }
   ],
   "source": [
    "TrainingData.head()"
   ]
  },
  {
   "cell_type": "code",
   "execution_count": 7,
   "metadata": {
    "_cell_guid": "afb69ad3-59ea-4fe5-bd96-05e33638e9bd",
    "_uuid": "c75a5e514a13817d8d2ab2c70f6e902f4a27669f"
   },
   "outputs": [
    {
     "name": "stdout",
     "output_type": "stream",
     "text": [
      "<class 'pandas.core.frame.DataFrame'>\n",
      "RangeIndex: 891 entries, 0 to 890\n",
      "Data columns (total 12 columns):\n",
      " #   Column       Non-Null Count  Dtype  \n",
      "---  ------       --------------  -----  \n",
      " 0   PassengerId  891 non-null    int64  \n",
      " 1   Survived     891 non-null    int64  \n",
      " 2   Pclass       891 non-null    int64  \n",
      " 3   Name         891 non-null    object \n",
      " 4   Sex          891 non-null    object \n",
      " 5   Age          714 non-null    float64\n",
      " 6   SibSp        891 non-null    int64  \n",
      " 7   Parch        891 non-null    int64  \n",
      " 8   Ticket       891 non-null    object \n",
      " 9   Fare         891 non-null    float64\n",
      " 10  Cabin        204 non-null    object \n",
      " 11  Embarked     889 non-null    object \n",
      "dtypes: float64(2), int64(5), object(5)\n",
      "memory usage: 83.7+ KB\n",
      "<class 'pandas.core.frame.DataFrame'>\n",
      "RangeIndex: 418 entries, 0 to 417\n",
      "Data columns (total 11 columns):\n",
      " #   Column       Non-Null Count  Dtype  \n",
      "---  ------       --------------  -----  \n",
      " 0   PassengerId  418 non-null    int64  \n",
      " 1   Pclass       418 non-null    int64  \n",
      " 2   Name         418 non-null    object \n",
      " 3   Sex          418 non-null    object \n",
      " 4   Age          332 non-null    float64\n",
      " 5   SibSp        418 non-null    int64  \n",
      " 6   Parch        418 non-null    int64  \n",
      " 7   Ticket       418 non-null    object \n",
      " 8   Fare         417 non-null    float64\n",
      " 9   Cabin        91 non-null     object \n",
      " 10  Embarked     418 non-null    object \n",
      "dtypes: float64(2), int64(4), object(5)\n",
      "memory usage: 36.0+ KB\n"
     ]
    }
   ],
   "source": [
    "TrainingData.info()\n",
    "TestData.info()"
   ]
  },
  {
   "cell_type": "markdown",
   "metadata": {
    "_cell_guid": "68fb208f-6c43-47c9-8716-077caef83898",
    "_uuid": "ab2c8c5382d158f105ea97bff118f22022d236ad",
    "jupyter": {
     "outputs_hidden": true
    }
   },
   "source": [
    "On a :\n",
    "* 7 variables numériques : **PassengerId, Survived, Pclass, Age, SibSp, Parch, Fare**\n",
    "    * dont **PassengerId** qui est l'identifiant du passager dans le dataset\n",
    "    * dont **Survived** qui est la variable à prédire la variable \"cible\"\n",
    "    * dont PClass qui est une indication de la strate socio économique\n",
    "    * dont  SibSp et Parch qui permettent de déterminer la situation familiale(epoux, mère, fille...)\n",
    "    * Fare qui est un prix ou quelque chose comme ca, traitons la sans la comprendre c'est pas la première et dernière fois que ca arrivera.\n",
    "* 5 variables non numériques : **Name, Sex, Ticket** un identifiant de ticket, **Cabin** un identifiant de cabin, **Embarked** le port d'embarquation C = Cherbourg, Q = Queenstown, S = Southampton)\n",
    "\n",
    "Recherchons s'il y a des valeurs manquantes dans ces 2 dataset"
   ]
  },
  {
   "cell_type": "code",
   "execution_count": 8,
   "metadata": {
    "_cell_guid": "f6bd235e-5670-4d21-b0eb-bececfc1757a",
    "_uuid": "6c44f4bd0762061bedd908dcbe854b14ae9f0966"
   },
   "outputs": [
    {
     "data": {
      "text/plain": [
       "PassengerId      0\n",
       "Survived         0\n",
       "Pclass           0\n",
       "Name             0\n",
       "Sex              0\n",
       "Age            177\n",
       "SibSp            0\n",
       "Parch            0\n",
       "Ticket           0\n",
       "Fare             0\n",
       "Cabin          687\n",
       "Embarked         2\n",
       "dtype: int64"
      ]
     },
     "execution_count": 8,
     "metadata": {},
     "output_type": "execute_result"
    }
   ],
   "source": [
    "TrainingData.isnull().sum()"
   ]
  },
  {
   "cell_type": "code",
   "execution_count": 9,
   "metadata": {
    "_cell_guid": "b12b1a12-5563-44ef-90a7-4a77b0a0d3f3",
    "_uuid": "7f46a31c1465fb979f9bfada8c17b01e0bd1c850"
   },
   "outputs": [
    {
     "data": {
      "text/plain": [
       "PassengerId      0\n",
       "Pclass           0\n",
       "Name             0\n",
       "Sex              0\n",
       "Age             86\n",
       "SibSp            0\n",
       "Parch            0\n",
       "Ticket           0\n",
       "Fare             1\n",
       "Cabin          327\n",
       "Embarked         0\n",
       "dtype: int64"
      ]
     },
     "execution_count": 9,
     "metadata": {},
     "output_type": "execute_result"
    }
   ],
   "source": [
    "TestData.isnull().sum()"
   ]
  },
  {
   "cell_type": "markdown",
   "metadata": {
    "_cell_guid": "aaf786a2-4fc4-45e5-a265-b3f7ab422eb4",
    "_uuid": "e7ae92c394024a41aaf4a726a20c44ae037544b0"
   },
   "source": [
    "Comme généralement en machine learning, il va falloir traiter ces valeurs manquantes en imputant des valeurs :\n",
    "* dans le train dataset ( Age 177 manquants, Cabin 687 manquants, Embarked 2 manquants)\n",
    "* dans le test dataset ( Age 86 manquants, Cabin 327 manquants, Fare 1 manquant)"
   ]
  },
  {
   "cell_type": "markdown",
   "metadata": {
    "_cell_guid": "36660fe0-d8a0-4bb1-83aa-3c6a1b17b830",
    "_uuid": "183198b90dca66bcb7850d86996149efee961002"
   },
   "source": [
    "---"
   ]
  },
  {
   "cell_type": "markdown",
   "metadata": {
    "_cell_guid": "a7117dc9-e37f-4a9c-9031-7684b1a0bbc4",
    "_uuid": "265117f74501dfd481714b1f92f238d0c9f63e6f"
   },
   "source": [
    "# Un peu d'exploration et de feature engineering\n",
    "\n",
    "Avant d'entrainer un modèle, il y a généralement une phase exploratoire du dataset que nous allons réduire ici au minimum.\n",
    "Il y a aussi selon le contexte du feature engineering qui est probablement l'une des composantes les plus compliquées du machine learning, il s'agit selon le contexte et le problème de créer des variables qui ont un sens pour contribuer à résoudre notre problématique.\n",
    "\n",
    "Ici, on peut en faire un exemple naturellement sur le nom de l'invidu et instinctivement en extrayant le titre du nom des individus, mais cela peut etre beaucoup moins naturel selon les problèmes voire même complètement un état de l'art si on prend l'exemple de la modélisation des images pour le machine learning ou il s'agit, par exemple, de proposer des valeurs pondérées par sous division de partie d'image."
   ]
  },
  {
   "cell_type": "markdown",
   "metadata": {
    "_cell_guid": "fe85cb6f-25a4-48d4-91c1-d5d32c507292",
    "_uuid": "caf1bd633899fccf71cd6808e24eefb51f337603"
   },
   "source": [
    "---"
   ]
  },
  {
   "cell_type": "markdown",
   "metadata": {
    "_cell_guid": "0963b71c-b8a7-442f-88df-f1edfffc7746",
    "_uuid": "270510a9041cd8626cf6b1f6d8b8ac5e42b26f39"
   },
   "source": [
    "# Passenger Id\n",
    "\n",
    "Variable identifiant : on la stocke pour le dataset de test mais on la supprime du dataset l'identifiant n'ayant un sens que pour nous retrouver l'indvidu. Kaggle proposant d'uploader notre prédiction si l'on souhaite pour donner le score de notre algorithme."
   ]
  },
  {
   "cell_type": "code",
   "execution_count": 10,
   "metadata": {
    "_cell_guid": "ad7d0c77-6877-43b4-81fd-fa34dcbc5707",
    "_uuid": "524ac419ec5e97933aa8ae960c5bcdf75814a4df"
   },
   "outputs": [],
   "source": [
    "passengerId = TestData['PassengerId']\n",
    "TrainingData.drop(labels='PassengerId', axis=1, inplace=True)\n",
    "TestData.drop(labels='PassengerId', axis=1, inplace=True)"
   ]
  },
  {
   "cell_type": "code",
   "execution_count": 11,
   "metadata": {
    "_cell_guid": "4360ee83-d3e9-478c-bbf6-d15dcc2a2cee",
    "_uuid": "5b25df1956d83bca9b94598068996012f74b531d"
   },
   "outputs": [
    {
     "data": {
      "text/plain": [
       "Index(['Survived', 'Pclass', 'Name', 'Sex', 'Age', 'SibSp', 'Parch', 'Ticket',\n",
       "       'Fare', 'Cabin', 'Embarked'],\n",
       "      dtype='object')"
      ]
     },
     "execution_count": 11,
     "metadata": {},
     "output_type": "execute_result"
    }
   ],
   "source": [
    "TrainingData.columns"
   ]
  },
  {
   "cell_type": "markdown",
   "metadata": {
    "_cell_guid": "96cd6010-dee3-4274-8623-55810a509868",
    "_uuid": "36e6307241afd092a741aa9243da67128e0737d7"
   },
   "source": [
    "# variable : Pclass\n",
    "\n",
    "Une variable catégorique qui donne une idée de la classe socio-économique de la personne dont on donne un exemple avec seaborn pour visualiser la contribution https://seaborn.pydata.org/\n",
    "\n",
    "Clairement chaque classe n'avait pas la meme chance de survie, n'est ce pas Jack?"
   ]
  },
  {
   "cell_type": "code",
   "execution_count": 12,
   "metadata": {
    "_cell_guid": "cd1e5c45-6156-4544-b705-b86ff92c6d38",
    "_uuid": "e0f993a30dc3620a76fe189334bf418b575f2ae7"
   },
   "outputs": [
    {
     "data": {
      "image/png": "[encoded data removed]",
      "text/plain": [
       "<Figure size 864x432 with 2 Axes>"
      ]
     },
     "metadata": {
      "needs_background": "light"
     },
     "output_type": "display_data"
    }
   ],
   "source": [
    "fig, axes=plt.subplots(1,2, figsize=(12, 6)) #layout matplotlib 1 ligne 2 colonnes taile 16*8\n",
    "fig1_pclass=sns.countplot(data=TrainingData, x =\"Pclass\",    ax=axes[0]).set_title(\"fréquence des Pclass\")\n",
    "fig2_pclass=sns.barplot(data=TrainingData, x= \"Pclass\",y= \"Survived\", ax=axes[1]).set_title(\"survie des Pclass\")"
   ]
  },
  {
   "cell_type": "markdown",
   "metadata": {
    "_cell_guid": "719f39df-37a7-4ee6-8170-c3d1db342251",
    "_uuid": "5fa8b2ea908fcffdf4056a288ebaddd7ddde2e80"
   },
   "source": [
    "# Name\n",
    "\n",
    "Nous allons essayer d'extraire du nom le titre qui peut etre présent dans le nom :\n",
    "* le titre s'il y e en a du type Mr, Miss, Mrs... identifié comme le 1er mot après la **,**.\n",
    "\n",
    "Exemple : Heikkinen, **Miss.** Laina\t"
   ]
  },
  {
   "cell_type": "code",
   "execution_count": 13,
   "metadata": {},
   "outputs": [
    {
     "name": "stdout",
     "output_type": "stream",
     "text": [
      "['Mr.' 'Mrs.' 'Miss.' 'Master.' 'Don.' 'Rev.' 'Dr.' 'Mme.' 'Ms.' 'Major.'\n",
      " 'Lady.' 'Sir.' 'Mlle.' 'Col.' 'Capt.' 'the' 'Jonkheer.']\n",
      "['Mr.' 'Mrs.' 'Miss.' 'Master.' 'Ms.' 'Col.' 'Rev.' 'Dr.' 'Dona.']\n"
     ]
    }
   ],
   "source": [
    "#affichage des valeurs distinctes obtenues pour le 1er mot après la , dans les 2 dataset\n",
    "print(TrainingData['Name'].apply(lambda x: x.split(',')[1]).apply(lambda x: x.split()[0]).unique())\n",
    "print(TestData['Name'].apply(lambda x: x.split(',')[1]).apply(lambda x: x.split()[0]).unique())"
   ]
  },
  {
   "cell_type": "code",
   "execution_count": 14,
   "metadata": {
    "_cell_guid": "80ac2756-c211-4e2c-96ba-f025afb801d7",
    "_uuid": "d72df9859e01eaaab1a3ca2b867b8be42d01b4b3"
   },
   "outputs": [],
   "source": [
    "# Extraction et ajout de la variable titre\n",
    "TrainingData['Title'] = TrainingData['Name'].apply( lambda x: x.split(',')[1]).apply(lambda x: x.split()[0])\n",
    "TestData['Title'] = TestData['Name'].apply(lambda x: x.split(',')[1]).apply(lambda x: x.split()[0])\n",
    "# Suppression de la variable Titre\n",
    "TrainingData.drop(labels='Name', axis=1, inplace=True)\n",
    "TestData.drop(labels='Name', axis=1, inplace=True)\n",
    "#On note que Dona est présent dans le jeu de test à prédire mais dans les variables d'apprentissage on règle ca a la mano\n",
    "TestData['Title'] = TestData['Title'].replace('Dona.', 'Mrs.')"
   ]
  },
  {
   "cell_type": "code",
   "execution_count": 15,
   "metadata": {
    "_cell_guid": "baa77529-f9e6-476c-8f5a-beb7879429c6",
    "_uuid": "96f88953ca5028e7293e610996abb700ecc59c4e"
   },
   "outputs": [
    {
     "data": {
      "image/png": "[encoded data removed]",
      "text/plain": [
       "<Figure size 1080x720 with 2 Axes>"
      ]
     },
     "metadata": {
      "needs_background": "light"
     },
     "output_type": "display_data"
    }
   ],
   "source": [
    "fx, axes = plt.subplots(2, 1, figsize=(15, 10))\n",
    "fig1_title = sns.countplot(data=TrainingData, x='Title', ax=axes[0]).set_title(\"Fréquence des titres\")\n",
    "fig2_title = sns.barplot(data=TrainingData, x='Title',y='Survived', ax=axes[1]).set_title(\"Taux de survie des titres\")"
   ]
  },
  {
   "cell_type": "markdown",
   "metadata": {
    "_cell_guid": "b8d8c2d1-06a0-49b4-9fc7-4864fe95a360",
    "_uuid": "3258a16e7aee8760f4a4786bec699fb88d34e4d2",
    "jupyter": {
     "outputs_hidden": true
    }
   },
   "source": [
    "L'échelle n'as pas exceptionnelle, mais on voit bien que certains titre comme Mrs,Miss,Master, Lady,Sir était préférable.\n",
    "\n",
    "Sinon tout le monde a vu le film et sait bien que le capitaine n'a pas survécu.."
   ]
  },
  {
   "cell_type": "markdown",
   "metadata": {
    "_cell_guid": "4abb7f15-2666-4157-ac04-e32482ec07eb",
    "_uuid": "7ddaedcc65f7a576ff8c393140b162b60bcc9756"
   },
   "source": [
    "# Age\n",
    "\n",
    "il nous faut traiter les valeurs nulls, il y a x facons de les traiter voici pour l'exemple un affichage de la distribution, on pourrait chercher tirer au hasard dans une distribution proche, chercher s'il y a des écarts d'age par exemple à partir du titre Miss pouvant surement etre plus jeune que Lady...\n",
    "\n",
    "On va pas se faire suer pour notre part on va mettre la moyenne de l'age sur le bateau quand on ne la connait pas."
   ]
  },
  {
   "cell_type": "code",
   "execution_count": 16,
   "metadata": {
    "_cell_guid": "1477483f-069b-43f3-abff-d9764aa08238",
    "_uuid": "4159c5b49bc74aa3792fbd86ef7136498dc4e12d"
   },
   "outputs": [
    {
     "name": "stderr",
     "output_type": "stream",
     "text": [
      "/home/coder/local/bin/conda/envs/basesspcloud/lib/python3.10/site-packages/seaborn/distributions.py:2619: FutureWarning: `distplot` is a deprecated function and will be removed in a future version. Please adapt your code to use either `displot` (a figure-level function with similar flexibility) or `histplot` (an axes-level function for histograms).\n",
      "  warnings.warn(msg, FutureWarning)\n"
     ]
    },
    {
     "data": {
      "text/plain": [
       "Text(0.5, 1.0, \"distribution de l'age\")"
      ]
     },
     "execution_count": 16,
     "metadata": {},
     "output_type": "execute_result"
    },
    {
     "data": {
      "image/png": "[encoded data removed]",
      "text/plain": [
       "<Figure size 432x288 with 1 Axes>"
      ]
     },
     "metadata": {
      "needs_background": "light"
     },
     "output_type": "display_data"
    }
   ],
   "source": [
    "sns.distplot(a= TrainingData['Age'].dropna(axis = 0),bins = 15,hist_kws={'rwidth'     :0.7}).set_title(\"distribution de l'age\")"
   ]
  },
  {
   "cell_type": "code",
   "execution_count": 17,
   "metadata": {},
   "outputs": [],
   "source": [
    "meanAge=round(TrainingData['Age'].mean())\n",
    "TrainingData['Age'] = TrainingData['Age'].fillna(meanAge)\n",
    "TestData['Age'] = TrainingData['Age'].fillna(meanAge)"
   ]
  },
  {
   "cell_type": "markdown",
   "metadata": {
    "_cell_guid": "3562f170-5f29-4550-b103-9f4280586659",
    "_uuid": "855906fea192646de43070da2d359521c2fe3ce1"
   },
   "source": [
    "# Ticket\n",
    "\n",
    "On pourrait regarder le contenu ou se renseigner sur les valeur de l'époque s'ils avaient une signification.\n",
    "\n",
    "N'étant pas historien, on va mettre betement la longueur de la chaine de caractère comme variable, au pire si elle ne contribue pas on l'excluera ou le modèle l'excluera d'elle même."
   ]
  },
  {
   "cell_type": "code",
   "execution_count": 18,
   "metadata": {
    "_cell_guid": "79b5313b-ef6e-4492-93c3-0e1cc738c8d7",
    "_uuid": "c3ba335f483e65c4868b7c8d0ac13b53127aefbe"
   },
   "outputs": [],
   "source": [
    "# Making a new feature ticket length\n",
    "\n",
    "TrainingData['Ticket_Len'] = TrainingData['Ticket'].apply(lambda x: len(x))\n",
    "TestData['Ticket_Len'] = TestData['Ticket'].apply(lambda x: len(x))\n",
    "TrainingData.drop(labels='Ticket', axis=1, inplace=True)\n",
    "TestData.drop(labels='Ticket', axis=1, inplace=True)"
   ]
  },
  {
   "cell_type": "markdown",
   "metadata": {
    "_cell_guid": "691fbd94-5afb-4a61-8c6a-c7b00f9b4207",
    "_uuid": "62b8790f3670809928c98d40cd20c6812aca0aa6"
   },
   "source": [
    "# Fare\n",
    "\n",
    "On s'y connait pas plus sur fare mais on doit la traiter car le dataset de test a une valeur null même sort que l'age on lui met une moyenne"
   ]
  },
  {
   "cell_type": "code",
   "execution_count": 19,
   "metadata": {
    "_cell_guid": "48f02158-1296-452d-91da-608d5fe57766",
    "_uuid": "4bad1ecdea38f903418030df660ab2bcf7ac6933"
   },
   "outputs": [],
   "source": [
    "TestData['Fare']=TestData['Fare'].fillna(TestData['Fare'].mean())"
   ]
  },
  {
   "cell_type": "markdown",
   "metadata": {
    "_cell_guid": "1fcc63f4-120d-44f7-b83b-e557f886cb4c",
    "_uuid": "a51ba0ec10346283d668f58c23672fb1d11c3db0"
   },
   "source": [
    "# Cabin\n",
    "\n",
    "Le nombre de valeur null étant importante on va ajouter la variable hasCabin 1 ou 0 pour ne retenir que si la personne avait une cabine ou non, la encore en se renseignant peut etre que la numérotation des cabines avaient un sens plus précis."
   ]
  },
  {
   "cell_type": "code",
   "execution_count": 20,
   "metadata": {
    "_cell_guid": "0f4bf4d5-5653-45a9-8aff-8363940e2a2a",
    "_uuid": "09fea57beddf9b0a3f29c40d89d8097be23046ab"
   },
   "outputs": [],
   "source": [
    "# Making a new feature hasCabin which is 1 if cabin is available else 0\n",
    "TrainingData['hasCabin'] = TrainingData.Cabin.notnull().astype(int)\n",
    "TestData['hasCabin'] = TestData.Cabin.notnull().astype(int)"
   ]
  },
  {
   "cell_type": "code",
   "execution_count": 21,
   "metadata": {
    "_cell_guid": "0f06f4e6-8564-4cc5-b7da-87d5c006e833",
    "_uuid": "2cddfeb5cb1aa7e4d44cd1bc53f86480d0c857b5"
   },
   "outputs": [],
   "source": [
    "TrainingData.drop(labels='Cabin', axis=1, inplace=True)\n",
    "TestData.drop(labels='Cabin', axis=1, inplace=True)"
   ]
  },
  {
   "cell_type": "code",
   "execution_count": 22,
   "metadata": {
    "_cell_guid": "aa0a773c-be00-42be-bcc8-3c5c3c74b4e4",
    "_uuid": "60d5f34f1d67ab680dac6e3458996cb921092e61"
   },
   "outputs": [
    {
     "data": {
      "text/plain": [
       "(Index(['Survived', 'Pclass', 'Sex', 'Age', 'SibSp', 'Parch', 'Fare',\n",
       "        'Embarked', 'Title', 'Ticket_Len', 'hasCabin'],\n",
       "       dtype='object'),\n",
       " Index(['Pclass', 'Sex', 'Age', 'SibSp', 'Parch', 'Fare', 'Embarked', 'Title',\n",
       "        'Ticket_Len', 'hasCabin'],\n",
       "       dtype='object'))"
      ]
     },
     "execution_count": 22,
     "metadata": {},
     "output_type": "execute_result"
    }
   ],
   "source": [
    "TrainingData.columns, TestData.columns"
   ]
  },
  {
   "cell_type": "markdown",
   "metadata": {
    "_cell_guid": "e3f39273-24e1-4f55-b4c5-06d955c3d52f",
    "_uuid": "19c71236eaa4e88917aec0f136dff6ac247842c9"
   },
   "source": [
    "# Embarked\n",
    "\n",
    "il a 2 null value dans Embarked qu'on ajoute à la valeur la plus fréquente S"
   ]
  },
  {
   "cell_type": "code",
   "execution_count": 23,
   "metadata": {
    "_cell_guid": "bb967c8a-c320-4a50-a121-d1b743c3bda3",
    "_uuid": "d71f618046995492830250c1dc32724d1bd3b9a0"
   },
   "outputs": [],
   "source": [
    "TrainingData['Embarked'] = TrainingData['Embarked'].fillna('S')\n",
    "TestData['Embarked'] = TestData['Embarked'].fillna('S')"
   ]
  },
  {
   "cell_type": "code",
   "execution_count": 24,
   "metadata": {},
   "outputs": [
    {
     "name": "stdout",
     "output_type": "stream",
     "text": [
      "Survived      0\n",
      "Pclass        0\n",
      "Sex           0\n",
      "Age           0\n",
      "SibSp         0\n",
      "Parch         0\n",
      "Fare          0\n",
      "Embarked      0\n",
      "Title         0\n",
      "Ticket_Len    0\n",
      "hasCabin      0\n",
      "dtype: int64\n",
      "Pclass        0\n",
      "Sex           0\n",
      "Age           0\n",
      "SibSp         0\n",
      "Parch         0\n",
      "Fare          0\n",
      "Embarked      0\n",
      "Title         0\n",
      "Ticket_Len    0\n",
      "hasCabin      0\n",
      "dtype: int64\n"
     ]
    }
   ],
   "source": [
    "#A ce stade on est \"bon\" sur le contenu des variables, il n'y a plus de valeurs null dans aucun des dataset\n",
    "print(    TrainingData.isnull().sum())\n",
    "print(TestData.isnull().sum()   )"
   ]
  },
  {
   "cell_type": "markdown",
   "metadata": {
    "_cell_guid": "1cefe67c-11d2-4f66-af18-374b3becf563",
    "_uuid": "60a2ea05bce4a59c50f2037d68362cbb6d5b5e1a"
   },
   "source": [
    "# Encoder les données imputées ou transformées."
   ]
  },
  {
   "cell_type": "code",
   "execution_count": 25,
   "metadata": {
    "_cell_guid": "b954644f-19d5-4edc-acc8-cf943a58534b",
    "_uuid": "74d6076bd9236daf2cefd6c32b79119f6437923d"
   },
   "outputs": [
    {
     "data": {
      "text/html": [
       "<div>\n",
       "<style scoped>\n",
       "    .dataframe tbody tr th:only-of-type {\n",
       "        vertical-align: middle;\n",
       "    }\n",
       "\n",
       "    .dataframe tbody tr th {\n",
       "        vertical-align: top;\n",
       "    }\n",
       "\n",
       "    .dataframe thead th {\n",
       "        text-align: right;\n",
       "    }\n",
       "</style>\n",
       "<table border=\"1\" class=\"dataframe\">\n",
       "  <thead>\n",
       "    <tr style=\"text-align: right;\">\n",
       "      <th></th>\n",
       "      <th>Survived</th>\n",
       "      <th>Pclass</th>\n",
       "      <th>Sex</th>\n",
       "      <th>Age</th>\n",
       "      <th>SibSp</th>\n",
       "      <th>Parch</th>\n",
       "      <th>Fare</th>\n",
       "      <th>Embarked</th>\n",
       "      <th>Title</th>\n",
       "      <th>Ticket_Len</th>\n",
       "      <th>hasCabin</th>\n",
       "    </tr>\n",
       "  </thead>\n",
       "  <tbody>\n",
       "    <tr>\n",
       "      <th>0</th>\n",
       "      <td>0</td>\n",
       "      <td>3</td>\n",
       "      <td>male</td>\n",
       "      <td>22.0</td>\n",
       "      <td>1</td>\n",
       "      <td>0</td>\n",
       "      <td>7.2500</td>\n",
       "      <td>S</td>\n",
       "      <td>Mr.</td>\n",
       "      <td>9</td>\n",
       "      <td>0</td>\n",
       "    </tr>\n",
       "    <tr>\n",
       "      <th>1</th>\n",
       "      <td>1</td>\n",
       "      <td>1</td>\n",
       "      <td>female</td>\n",
       "      <td>38.0</td>\n",
       "      <td>1</td>\n",
       "      <td>0</td>\n",
       "      <td>71.2833</td>\n",
       "      <td>C</td>\n",
       "      <td>Mrs.</td>\n",
       "      <td>8</td>\n",
       "      <td>1</td>\n",
       "    </tr>\n",
       "    <tr>\n",
       "      <th>2</th>\n",
       "      <td>1</td>\n",
       "      <td>3</td>\n",
       "      <td>female</td>\n",
       "      <td>26.0</td>\n",
       "      <td>0</td>\n",
       "      <td>0</td>\n",
       "      <td>7.9250</td>\n",
       "      <td>S</td>\n",
       "      <td>Miss.</td>\n",
       "      <td>16</td>\n",
       "      <td>0</td>\n",
       "    </tr>\n",
       "    <tr>\n",
       "      <th>3</th>\n",
       "      <td>1</td>\n",
       "      <td>1</td>\n",
       "      <td>female</td>\n",
       "      <td>35.0</td>\n",
       "      <td>1</td>\n",
       "      <td>0</td>\n",
       "      <td>53.1000</td>\n",
       "      <td>S</td>\n",
       "      <td>Mrs.</td>\n",
       "      <td>6</td>\n",
       "      <td>1</td>\n",
       "    </tr>\n",
       "    <tr>\n",
       "      <th>4</th>\n",
       "      <td>0</td>\n",
       "      <td>3</td>\n",
       "      <td>male</td>\n",
       "      <td>35.0</td>\n",
       "      <td>0</td>\n",
       "      <td>0</td>\n",
       "      <td>8.0500</td>\n",
       "      <td>S</td>\n",
       "      <td>Mr.</td>\n",
       "      <td>6</td>\n",
       "      <td>0</td>\n",
       "    </tr>\n",
       "  </tbody>\n",
       "</table>\n",
       "</div>"
      ],
      "text/plain": [
       "   Survived  Pclass     Sex   Age  SibSp  Parch     Fare Embarked  Title  \\\n",
       "0         0       3    male  22.0      1      0   7.2500        S    Mr.   \n",
       "1         1       1  female  38.0      1      0  71.2833        C   Mrs.   \n",
       "2         1       3  female  26.0      0      0   7.9250        S  Miss.   \n",
       "3         1       1  female  35.0      1      0  53.1000        S   Mrs.   \n",
       "4         0       3    male  35.0      0      0   8.0500        S    Mr.   \n",
       "\n",
       "   Ticket_Len  hasCabin  \n",
       "0           9         0  \n",
       "1           8         1  \n",
       "2          16         0  \n",
       "3           6         1  \n",
       "4           6         0  "
      ]
     },
     "execution_count": 25,
     "metadata": {},
     "output_type": "execute_result"
    }
   ],
   "source": [
    "# Voila nos données d'apprentissage\n",
    "TrainingData.head()"
   ]
  },
  {
   "cell_type": "code",
   "execution_count": 26,
   "metadata": {},
   "outputs": [],
   "source": [
    "label_encoder_sex = LabelEncoder()\n",
    "label_encoder_title = LabelEncoder()\n",
    "label_encoder_embarked = LabelEncoder()\n",
    "TrainingData['Sex'] = label_encoder_sex.fit_transform(TrainingData['Sex'].values)\n",
    "TrainingData['Title'] = label_encoder_title.fit_transform(TrainingData['Sex'].values)\n",
    "TrainingData['Embarked'] = label_encoder_embarked.fit_transform(TrainingData['Sex'].values)"
   ]
  },
  {
   "cell_type": "code",
   "execution_count": 27,
   "metadata": {},
   "outputs": [
    {
     "data": {
      "text/html": [
       "<div>\n",
       "<style scoped>\n",
       "    .dataframe tbody tr th:only-of-type {\n",
       "        vertical-align: middle;\n",
       "    }\n",
       "\n",
       "    .dataframe tbody tr th {\n",
       "        vertical-align: top;\n",
       "    }\n",
       "\n",
       "    .dataframe thead th {\n",
       "        text-align: right;\n",
       "    }\n",
       "</style>\n",
       "<table border=\"1\" class=\"dataframe\">\n",
       "  <thead>\n",
       "    <tr style=\"text-align: right;\">\n",
       "      <th></th>\n",
       "      <th>Survived</th>\n",
       "      <th>Pclass</th>\n",
       "      <th>Sex</th>\n",
       "      <th>Age</th>\n",
       "      <th>SibSp</th>\n",
       "      <th>Parch</th>\n",
       "      <th>Fare</th>\n",
       "      <th>Embarked</th>\n",
       "      <th>Title</th>\n",
       "      <th>Ticket_Len</th>\n",
       "      <th>hasCabin</th>\n",
       "    </tr>\n",
       "  </thead>\n",
       "  <tbody>\n",
       "    <tr>\n",
       "      <th>0</th>\n",
       "      <td>0</td>\n",
       "      <td>3</td>\n",
       "      <td>1</td>\n",
       "      <td>22.0</td>\n",
       "      <td>1</td>\n",
       "      <td>0</td>\n",
       "      <td>7.2500</td>\n",
       "      <td>1</td>\n",
       "      <td>1</td>\n",
       "      <td>9</td>\n",
       "      <td>0</td>\n",
       "    </tr>\n",
       "    <tr>\n",
       "      <th>1</th>\n",
       "      <td>1</td>\n",
       "      <td>1</td>\n",
       "      <td>0</td>\n",
       "      <td>38.0</td>\n",
       "      <td>1</td>\n",
       "      <td>0</td>\n",
       "      <td>71.2833</td>\n",
       "      <td>0</td>\n",
       "      <td>0</td>\n",
       "      <td>8</td>\n",
       "      <td>1</td>\n",
       "    </tr>\n",
       "    <tr>\n",
       "      <th>2</th>\n",
       "      <td>1</td>\n",
       "      <td>3</td>\n",
       "      <td>0</td>\n",
       "      <td>26.0</td>\n",
       "      <td>0</td>\n",
       "      <td>0</td>\n",
       "      <td>7.9250</td>\n",
       "      <td>0</td>\n",
       "      <td>0</td>\n",
       "      <td>16</td>\n",
       "      <td>0</td>\n",
       "    </tr>\n",
       "    <tr>\n",
       "      <th>3</th>\n",
       "      <td>1</td>\n",
       "      <td>1</td>\n",
       "      <td>0</td>\n",
       "      <td>35.0</td>\n",
       "      <td>1</td>\n",
       "      <td>0</td>\n",
       "      <td>53.1000</td>\n",
       "      <td>0</td>\n",
       "      <td>0</td>\n",
       "      <td>6</td>\n",
       "      <td>1</td>\n",
       "    </tr>\n",
       "    <tr>\n",
       "      <th>4</th>\n",
       "      <td>0</td>\n",
       "      <td>3</td>\n",
       "      <td>1</td>\n",
       "      <td>35.0</td>\n",
       "      <td>0</td>\n",
       "      <td>0</td>\n",
       "      <td>8.0500</td>\n",
       "      <td>1</td>\n",
       "      <td>1</td>\n",
       "      <td>6</td>\n",
       "      <td>0</td>\n",
       "    </tr>\n",
       "  </tbody>\n",
       "</table>\n",
       "</div>"
      ],
      "text/plain": [
       "   Survived  Pclass  Sex   Age  SibSp  Parch     Fare  Embarked  Title  \\\n",
       "0         0       3    1  22.0      1      0   7.2500         1      1   \n",
       "1         1       1    0  38.0      1      0  71.2833         0      0   \n",
       "2         1       3    0  26.0      0      0   7.9250         0      0   \n",
       "3         1       1    0  35.0      1      0  53.1000         0      0   \n",
       "4         0       3    1  35.0      0      0   8.0500         1      1   \n",
       "\n",
       "   Ticket_Len  hasCabin  \n",
       "0           9         0  \n",
       "1           8         1  \n",
       "2          16         0  \n",
       "3           6         1  \n",
       "4           6         0  "
      ]
     },
     "execution_count": 27,
     "metadata": {},
     "output_type": "execute_result"
    }
   ],
   "source": [
    "TrainingData.head()"
   ]
  },
  {
   "cell_type": "code",
   "execution_count": 28,
   "metadata": {
    "_cell_guid": "6ef57b0c-9723-4f40-b8c3-e2be60784f91",
    "_uuid": "9401c53ce8a950e7aebf3fbf62faf29c5788bf65"
   },
   "outputs": [],
   "source": [
    "#On va maintenant passer du monde panda au monde numpy pour servir d'input à l'apprentissage pour cela on isole la variable cible\n",
    "y = TrainingData.iloc[:, 0].values\n",
    "#et le reste du dataset\n",
    "X = TrainingData.iloc[:, 1:12].values"
   ]
  },
  {
   "cell_type": "code",
   "execution_count": 29,
   "metadata": {
    "_cell_guid": "d0b132d9-ecae-4ea0-b5f1-64fc90b8a358",
    "_uuid": "6787d0472b874437a300ac0d32e20eb3c666de09"
   },
   "outputs": [],
   "source": [
    "# Feature Scaling\n",
    "scaler_x = MinMaxScaler((-1,1))\n",
    "X = scaler_x.fit_transform(X)\n"
   ]
  },
  {
   "cell_type": "code",
   "execution_count": 30,
   "metadata": {
    "_cell_guid": "b768a96d-8f55-440f-b268-26fb613acc59",
    "_uuid": "dfcfa465aa94260c2db0a6c87c9dea05cc0c45de"
   },
   "outputs": [],
   "source": [
    "# On splite notre dataset d'apprentisage pour faire de la validation croisée une partie pour apprendre une partie pour regarder le score\n",
    "# On utilise pas le dataset de test de kaggle notre but est de se servir du dataset d'apprentissage et de s'assurer que le modèle le généralise bien pour l'appliquer ensuite sur le dataset de test du challenge\n",
    "# Prenons arbitrairement 10% du dataset en test et 90% pour l'apprentissage\n",
    "X_train, X_test, y_train, y_test = train_test_split(X, y, test_size=0.1)"
   ]
  },
  {
   "attachments": {
    "image.png": {
     "image/png": "[encoded data removed]"
    }
   },
   "cell_type": "markdown",
   "metadata": {
    "_cell_guid": "8fd52bae-823d-461e-83d0-cd4692e9cc52",
    "_uuid": "4b542c06467c1b212ad491671ed0c6c3ff945c2e"
   },
   "source": [
    "# Random Forest\n",
    "\n",
    "Les forets aléatoires sont des algorithmes souvent performants en ce qui concerne les classifications.\n",
    "\n",
    "L'idée est simple :\n",
    "* On prend dans le dataset une partie des données et une partie des variables au hasard.\n",
    "* On fait un arbre de décision sur ces données tirées aléatoirement, l'arbre de décision étant un algorithme permettant de déterminer la variable et sa valeur qui permet de séparer au mieux la population par rapport à notre variable cible le but étant de descendre aux feuilles les plus pures.\n",
    "\n",
    "![image.png](attachment:image.png)\n",
    "\n",
    "* Puis on recommence avec une autre sous partie des données et des variables, ce qui nous fait un second arbre...\n",
    "* Du coup, plusieurs arbres aléatoires, ca nous fait une forêt...aléatoire.\n",
    "* Un individu à prédire passera dans chacun des arbres et aura pour chaque arbre une prédiction, la prédiction finale étant la pondération de chacun de nos arbres.\n"
   ]
  },
  {
   "cell_type": "code",
   "execution_count": 31,
   "metadata": {},
   "outputs": [],
   "source": [
    "from sklearn.preprocessing import LabelEncoder, OneHotEncoder\n",
    "from sklearn.model_selection import train_test_split\n",
    "import pathlib\n",
    "from sklearn.preprocessing import MinMaxScaler\n",
    "from sklearn.ensemble import RandomForestClassifier"
   ]
  },
  {
   "cell_type": "code",
   "execution_count": 32,
   "metadata": {
    "_cell_guid": "39d76ad5-c0b0-4007-b04d-f885e67bd0d3",
    "_uuid": "8c304bf4dca9102a7c78af2c4c6298caf46a1ed9",
    "scrolled": true
   },
   "outputs": [
    {
     "data": {
      "text/plain": [
       "RandomForestClassifier(n_estimators=20)"
      ]
     },
     "execution_count": 32,
     "metadata": {},
     "output_type": "execute_result"
    }
   ],
   "source": [
    "#Ici demandons d'avoir 20 arbres\n",
    "rdmf = RandomForestClassifier(n_estimators=20)\n",
    "rdmf.fit(X_train, y_train)"
   ]
  },
  {
   "cell_type": "code",
   "execution_count": 33,
   "metadata": {
    "_cell_guid": "2d5be6b3-51f3-4b79-af78-53e2550edc69",
    "_uuid": "861630a841959c68f0ce446f9d11c0561c514237"
   },
   "outputs": [
    {
     "name": "stdout",
     "output_type": "stream",
     "text": [
      "77 % de bonnes réponses sur les données de test pour validation (résultat qu'on attendrait si on soumettait notre prédiction sur le dataset de test.csv)\n",
      "matrice de confusion\n"
     ]
    },
    {
     "data": {
      "text/plain": [
       "array([[47, 14],\n",
       "       [ 7, 22]])"
      ]
     },
     "execution_count": 33,
     "metadata": {},
     "output_type": "execute_result"
    }
   ],
   "source": [
    "#calculons le score sur le dataset d'apprentissage et sur le dataset de test (10% du dataset d'apprentissage mis de côté)\n",
    "# le score étant le nombre de bonne prédiction\n",
    "rdmf_score = rdmf.score(X_test, y_test)\n",
    "rdmf_score_tr = rdmf.score(X_train, y_train)\n",
    "print(\"{} % de bonnes réponses sur les données de test pour validation (résultat qu'on attendrait si on soumettait notre prédiction sur le dataset de test.csv)\".format(round(rdmf_score*100)))\n",
    "from sklearn.metrics import confusion_matrix\n",
    "print(\"matrice de confusion\")\n",
    "confusion_matrix(y_test, rdmf.predict(X_test))"
   ]
  }
 ],
 "metadata": {
  "kernelspec": {
   "display_name": "Python 3",
   "language": "python",
   "name": "python3"
  },
  "language_info": {
   "codemirror_mode": {
    "name": "ipython",
    "version": 3
   },
   "file_extension": ".py",
   "mimetype": "text/x-python",
   "name": "python",
   "nbconvert_exporter": "python",
   "pygments_lexer": "ipython3",
   "version": "3.10.0"
  }
 },
 "nbformat": 4,
 "nbformat_minor": 4
}
